{
 "cells": [
  {
   "cell_type": "code",
   "execution_count": 8,
   "metadata": {},
   "outputs": [],
   "source": [
    "#Load and process Fashion MNIST data for image classification\n",
    "\n",
    "#Convert the dataset into Tensor used by PyTorch\n",
    "from  torchvision import datasets, transforms\n",
    "from torch.utils.data import DataLoader\n",
    "transform = transforms.Compose([\n",
    "    transforms.ToTensor()\n",
    "])\n",
    "\n",
    "#Download the fashion MINST data directly from PyTorch\n",
    "#The downloaded datasets are stored in the same folder with this jupyter notebook file\n",
    "#For train dataset, ise \"train=True\"\n",
    "#For test dataset, ise \"train=False\"\n",
    "train_dataset = datasets.FashionMNIST('./data', train=True, download=True, transform=transform)\n",
    "test_dataset = datasets.FashionMNIST('./data', train=False, download=True, transform=transform)\n",
    "\n",
    "#Load the datasets into DataLoader\n",
    "train_dataloader = DataLoader(train_dataset, batch_size=64, shuffle=True, num_workers=0)\n",
    "test_dataloader = DataLoader(test_dataset, batch_size=64, shuffle=False, num_workers=0)\n",
    "\n",
    "class_names = [\"T-shirt/top\", \"Trouser\", \"Pullover\", \"Dress\", \"Coat\",\n",
    "               \"Sandal\", \"Shirt\", \"Sneaker\", \"Bag\", \"Ankle boot\" ]"
   ]
  },
  {
   "cell_type": "code",
   "execution_count": 2,
   "metadata": {},
   "outputs": [
    {
     "data": {
      "image/png": "[encoded data removed]",
      "text/plain": [
       "<Figure size 800x400 with 10 Axes>"
      ]
     },
     "metadata": {},
     "output_type": "display_data"
    }
   ],
   "source": [
    "#Plot some Fashion MNIST examples\n",
    "import matplotlib.pyplot as plt\n",
    "#One batch has 64 images\n",
    "dataiter = iter(train_dataloader) # Create an iterator from the DataLoader\n",
    "samples = next(dataiter) # Get the next batch of data from the iterator\n",
    "\n",
    "#Plot the data\n",
    "def plot_digits(instances, labels, images_per_row = 5):\n",
    "    for i in range(len(instances)):\n",
    "        idx = i // images_per_row\n",
    "        idy = i % images_per_row\n",
    "        ax[idx, idy].imshow(instances[i].squeeze(), cmap=\"gray\")\n",
    "        ax[idx, idy].set_title(class_names[labels[i]])\n",
    "        ax[idx, idy].axis(\"off\")\n",
    "        ax[idx, idy].imshow(instances[i].squeeze(), cmap=\"gray\")\n",
    "\n",
    "fig, ax = plt.subplots(2, 5, figsize=(8,4))\n",
    "example_images = samples[0][:10]\n",
    "example_labels = samples[1][:10]\n",
    "\n",
    "plot_digits(example_images, example_labels, images_per_row=5)\n",
    "plt.show()\n",
    "\n",
    "\n"
   ]
  },
  {
   "cell_type": "code",
   "execution_count": 3,
   "metadata": {},
   "outputs": [],
   "source": [
    "#Use PyTorch to build a neural network (multi layer perceptron) for image classification\n",
    "import numpy as np\n",
    "import torch\n",
    "import torch.nn as nn\n",
    "import torch.nn.functional as F\n",
    "\n",
    "np.random.seed(42)\n",
    "torch.manual_seed(42)\n",
    "\n",
    "class ClassificationNet(nn.Module):\n",
    "    def __init__(self):\n",
    "        super(ClassificationNet, self).__init__()\n",
    "        self.flatten = nn.Flatten() #Convert the image from matrix to vector\n",
    "        self.fc1 = nn.Linear(784, 300) #The input layer with 784 features, and the first hidden layer with 300 neurons\n",
    "        self.fc2 = nn.Linear(300, 100) #The second hidden layer with 100 neurons\n",
    "        self.fc3 = nn.Linear(100, 10) #The output layer with 10 classes\n",
    "\n",
    "    def forward(self, x):\n",
    "        x = self.flatten(x)\n",
    "        x = F.relu(self.fc1(x))  #The first hidden layer uses ReLU activation function\n",
    "        x = F.relu(self.fc2(x))  #The first hidden layer uses ReLU activation function\n",
    "        x = self.fc3(x) #The output layer does not apply any activation function here, but will be processed directly by loss function\n",
    "        return x"
   ]
  },
  {
   "cell_type": "code",
   "execution_count": 4,
   "metadata": {},
   "outputs": [
    {
     "name": "stdout",
     "output_type": "stream",
     "text": [
      "ClassificationNet(\n",
      "  (flatten): Flatten(start_dim=1, end_dim=-1)\n",
      "  (fc1): Linear(in_features=784, out_features=300, bias=True)\n",
      "  (fc2): Linear(in_features=300, out_features=100, bias=True)\n",
      "  (fc3): Linear(in_features=100, out_features=10, bias=True)\n",
      ")\n"
     ]
    }
   ],
   "source": [
    "#Set up some hyperparameters: use cross entropy loss, adam optimizer, and epochs\n",
    "import torch.optim as optim\n",
    "epochs = 10\n",
    "learning_rate = 0.01\n",
    "weight_decay = 5e-4\n",
    "lossfunction = nn.CrossEntropyLoss()\n",
    "\n",
    "model = ClassificationNet()\n",
    "optimizer = optim.Adam(model.parameters(), lr=learning_rate, weight_decay=weight_decay)\n",
    "\n",
    "print(model)"
   ]
  },
  {
   "cell_type": "code",
   "execution_count": 5,
   "metadata": {},
   "outputs": [
    {
     "name": "stdout",
     "output_type": "stream",
     "text": [
      "epoch (1): Train accuracy: 0.7972, f1_score: 0.7951, loss: 0.009\n",
      "epoch (2): Train accuracy: 0.8304, f1_score: 0.8293, loss: 0.007\n",
      "epoch (3): Train accuracy: 0.8387, f1_score: 0.8376, loss: 0.007\n",
      "epoch (4): Train accuracy: 0.8383, f1_score: 0.8374, loss: 0.007\n",
      "epoch (5): Train accuracy: 0.8404, f1_score: 0.8395, loss: 0.007\n",
      "epoch (6): Train accuracy: 0.8409, f1_score: 0.8399, loss: 0.007\n",
      "epoch (7): Train accuracy: 0.8412, f1_score: 0.8402, loss: 0.007\n",
      "epoch (8): Train accuracy: 0.8430, f1_score: 0.8422, loss: 0.007\n",
      "epoch (9): Train accuracy: 0.8442, f1_score: 0.8431, loss: 0.007\n",
      "epoch (10): Train accuracy: 0.8451, f1_score: 0.8440, loss: 0.007\n"
     ]
    }
   ],
   "source": [
    "from sklearn.metrics import f1_score\n",
    "\n",
    "#Define the training function\n",
    "def train(epoch):\n",
    "    model.train()\n",
    "    \n",
    "    running_loss = 0.0\n",
    "    train_total, train_correct = 0.0, 0.0    \n",
    "    y_train, y_pred = [], []\n",
    "    \n",
    "    for i, (features, labels) in enumerate(train_dataloader):\n",
    "        optimizer.zero_grad()\n",
    "\n",
    "        outputs = model(features)\n",
    "\n",
    "        loss = lossfunction(outputs, labels.long())\n",
    "        loss.backward()\n",
    "        optimizer.step()\n",
    "        \n",
    "        #print statistics\n",
    "        running_loss += loss.item()\n",
    "        _, train_predicted = torch.max(outputs.data, 1)\n",
    "        train_total += labels.size(0)\n",
    "        train_correct += (train_predicted == labels.long()).sum().item()\n",
    "        y_train += labels.tolist()\n",
    "        y_pred += train_predicted.tolist()\n",
    "\n",
    "    macro_f1 = f1_score(y_train, y_pred, average='macro')\n",
    "    print(\"epoch (%d): Train accuracy: %.4f, f1_score: %.4f, loss: %.3f\" % (epoch, train_correct/train_total, macro_f1, running_loss/train_total))\n",
    "    \n",
    "    \n",
    "#Train the model\n",
    "for epoch in range(1, epochs + 1):\n",
    "    train(epoch)"
   ]
  },
  {
   "cell_type": "code",
   "execution_count": 9,
   "metadata": {},
   "outputs": [
    {
     "name": "stdout",
     "output_type": "stream",
     "text": [
      "Test accuracy: 0.8318, macro f1_score: 0.8268\n"
     ]
    }
   ],
   "source": [
    "#Evaluate the trained neural network\n",
    "\n",
    "#Define the test function\n",
    "def test():\n",
    "    model.eval()\n",
    "    \n",
    "    test_correct, test_total = 0.0, 0.0\n",
    "    y_test, y_pred = [], []\n",
    "    \n",
    "    with torch.no_grad():\n",
    "        for features, labels in test_dataloader:\n",
    "            outputs = model(features)\n",
    "            \n",
    "            _, predicted = torch.max(outputs.data, 1)\n",
    "            test_total += labels.size(0)\n",
    "            test_correct += (predicted == labels.long()).sum().item()\n",
    "            y_test += labels.tolist()\n",
    "            y_pred += predicted.tolist()\n",
    "\n",
    "    macro_f1 = f1_score(y_test, y_pred, average='macro')\n",
    "    print('Test accuracy: %.4f, macro f1_score: %.4f' % (test_correct / test_total, macro_f1))\n",
    "    \n",
    "    return y_test, y_pred\n",
    "\n",
    "#Test the model\n",
    "y_test, y_pred = test()\n"
   ]
  },
  {
   "cell_type": "code",
   "execution_count": 10,
   "metadata": {},
   "outputs": [
    {
     "name": "stdout",
     "output_type": "stream",
     "text": [
      "Confusion Matrix\n",
      "\n",
      "[[879   8  16  27   0   1  56   0  13   0]\n",
      " [  3 967   2  25   1   0   0   0   2   0]\n",
      " [ 13   8 855  15  67   0  32   0  10   0]\n",
      " [ 43  18  13 882  19   0  18   0   7   0]\n",
      " [  1   7 299  63 552   0  71   0   7   0]\n",
      " [  1   1   0   0   0 881   0  90   3  24]\n",
      " [238  12 189  23  47   1 470   0  20   0]\n",
      " [  0   0   0   0   0   8   0 980   0  12]\n",
      " [  1   1  12   5   2   4  13  10 952   0]\n",
      " [  0   2   0   0   0  10   0  87   1 900]]\n"
     ]
    }
   ],
   "source": [
    "#Output the confusion matrix\n",
    "from sklearn.metrics import confusion_matrix\n",
    "confusion = confusion_matrix(y_test, y_pred)\n",
    "print('Confusion Matrix\\n')\n",
    "print(confusion)"
   ]
  },
  {
   "cell_type": "code",
   "execution_count": 11,
   "metadata": {},
   "outputs": [
    {
     "name": "stdout",
     "output_type": "stream",
     "text": [
      "Accuracy: 0.83\n",
      "Macro F1-score: 0.83\n",
      "Micro F1-score: 0.83\n"
     ]
    }
   ],
   "source": [
    "#Calculate accuracy, macro F1 and micro F1\n",
    "\n",
    "from sklearn.metrics import accuracy_score, f1_score\n",
    "\n",
    "acc = accuracy_score(y_test, y_pred)\n",
    "macrof1 = f1_score(y_test, y_pred, average='macro')\n",
    "microf1 = f1_score(y_test, y_pred, average='micro')\n",
    "print('Accuracy: {:.2f}'.format(acc))\n",
    "print('Macro F1-score: {:.2f}'.format(macrof1))\n",
    "print('Micro F1-score: {:.2f}'.format(microf1))"
   ]
  }
 ],
 "metadata": {
  "kernelspec": {
   "display_name": "v3.11.0",
   "language": "python",
   "name": "v3.11.0"
  },
  "language_info": {
   "codemirror_mode": {
    "name": "ipython",
    "version": 3
   },
   "file_extension": ".py",
   "mimetype": "text/x-python",
   "name": "python",
   "nbconvert_exporter": "python",
   "pygments_lexer": "ipython3",
   "version": "3.11.0"
  }
 },
 "nbformat": 4,
 "nbformat_minor": 2
}
